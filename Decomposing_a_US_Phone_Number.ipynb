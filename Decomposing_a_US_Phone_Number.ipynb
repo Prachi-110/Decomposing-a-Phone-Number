{
  "nbformat": 4,
  "nbformat_minor": 0,
  "metadata": {
    "colab": {
      "name": "Decomposing a US Phone Number",
      "provenance": [],
      "collapsed_sections": [],
      "include_colab_link": true
    },
    "kernelspec": {
      "name": "python3",
      "display_name": "Python 3"
    }
  },
  "cells": [
    {
      "cell_type": "markdown",
      "metadata": {
        "id": "view-in-github",
        "colab_type": "text"
      },
      "source": [
        "<a href=\"https://colab.research.google.com/github/Prachi-110/Decomposing-a-Phone-Number/blob/main/Decomposing_a_US_Phone_Number.ipynb\" target=\"_parent\"><img src=\"https://colab.research.google.com/assets/colab-badge.svg\" alt=\"Open In Colab\"/></a>"
      ]
    },
    {
      "cell_type": "markdown",
      "metadata": {
        "id": "UzF-WBFMmKQ2"
      },
      "source": [
        "### Decomposing US Phone Number (15 points)\n",
        "\n",
        "The problem has been solved by using String methods and functions.\n",
        "Code takes in a string representing the phone number and using the formats listed on [apache.org](https://stdcxx.apache.org/doc/stdlibug/26-1.html) (reproduced below), gives which format was used and then prints that format's name . \n",
        "\n",
        "Once the format is determined, code will then print out the prefix and line number. \n",
        "For example, for the phone number `1 (631) 283-2456`, `631` is the area code, `283` is the prefix, and `2456` is the line number. \n",
        "\n",
        "Code takes a string named `phone` and, depending on its format, first prints one of the following strings:\n",
        "\n",
        "* `domestic` if the number starts with a `(` character\n",
        "* `local` if the number starts with a number other than `0` or `1` (Hint: use the `in` operator or `not in` syntax from the lecture notes.)\n",
        "* `international` if the number starts with a `+` character\n",
        "* `other` in all other cases\n",
        "\n",
        "Then, if the number was domestic, local or international, your code extracts the prefix and line number, printing them on separate lines. \n",
        "\n",
        "Test Case # | Input (`phone`) | Output (on separate lines)\n",
        ":--: | :-- | :--\n",
        "1 | `754-3010`| `local 754 3010`\n",
        "2 | `(541) 867-5309` | `domestic 867 5309` \n",
        "3| `+1 (631) 632-2456` | `international 632 2456` \n",
        "4| `1 (631) 632-2456` | `other` \n"
      ]
    },
    {
      "cell_type": "code",
      "metadata": {
        "id": "fhSv7vcQ-kEw",
        "colab": {
          "base_uri": "https://localhost:8080/"
        },
        "outputId": "0ea315df-20b9-4f1c-abe4-6f68567f7ae2"
      },
      "source": [
        "phone = '754-3010'  # test case #1\n",
        "prefix= phone[0:3]\n",
        "line_number=phone[4:]\n",
        "numbers='01'\n",
        "if numbers not in phone[0]:\n",
        "  print('local',prefix,line_number)\n",
        "\n",
        "\n",
        "phone = '(541) 867-5309'\n",
        "prefix_2=phone[6:9]\n",
        "line_number_2=phone[10:]\n",
        "index_bracket=phone.find('(')\n",
        "if index_bracket==0:\n",
        "   print('domestic',prefix_2,line_number_2)\n",
        "\n",
        "\n",
        "\n",
        "phone = '+1 (631) 632-2456' \n",
        "prefix_3=phone[9:12]\n",
        "line_number_3=phone[13:]\n",
        "index_plus=phone.find('+')\n",
        "if index_plus==0:\n",
        "  print('international',prefix_3, line_number_3)\n",
        "\n",
        "\n",
        "phone = '1 (631) 632-2456'\n",
        "index_1=phone.find('1')\n",
        "if index_1==0 or 1:\n",
        "  print('other')\n",
        "\n",
        "\n",
        "\n",
        "# Start writing code here."
      ],
      "execution_count": 1,
      "outputs": [
        {
          "output_type": "stream",
          "name": "stdout",
          "text": [
            "local 754 3010\n",
            "domestic 867 5309\n",
            "international 632 2456\n",
            "other\n"
          ]
        }
      ]
    }
  ]
}